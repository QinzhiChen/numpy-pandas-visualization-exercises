{
 "cells": [
  {
   "cell_type": "code",
   "execution_count": 21,
   "id": "f5f648d8",
   "metadata": {},
   "outputs": [],
   "source": [
    "import numpy as np\n",
    "a = np.array([4, 10, 12, 23, -2, -1, 0, 0, 0, -6, 3, -7])"
   ]
  },
  {
   "cell_type": "code",
   "execution_count": 22,
   "id": "19027527",
   "metadata": {},
   "outputs": [
    {
     "data": {
      "text/plain": [
       "4"
      ]
     },
     "execution_count": 22,
     "metadata": {},
     "output_type": "execute_result"
    }
   ],
   "source": [
    "# How many negative numbers are there?\n",
    "len(a[a<0])"
   ]
  },
  {
   "cell_type": "code",
   "execution_count": 23,
   "id": "73cb1735",
   "metadata": {},
   "outputs": [
    {
     "name": "stdout",
     "output_type": "stream",
     "text": [
      "Object `there` not found.\n"
     ]
    },
    {
     "data": {
      "text/plain": [
       "5"
      ]
     },
     "execution_count": 23,
     "metadata": {},
     "output_type": "execute_result"
    }
   ],
   "source": [
    "How many positive numbers are there?\n",
    "len(a[a>0])"
   ]
  },
  {
   "cell_type": "code",
   "execution_count": 47,
   "id": "3c0a62d6",
   "metadata": {},
   "outputs": [
    {
     "data": {
      "text/plain": [
       "array([ 4, 10, 12])"
      ]
     },
     "execution_count": 47,
     "metadata": {},
     "output_type": "execute_result"
    }
   ],
   "source": [
    "# How many even positive numbers are there?\n",
    "a[(a>0) & (a%2==0)]"
   ]
  },
  {
   "cell_type": "code",
   "execution_count": 65,
   "id": "4401ebe1",
   "metadata": {},
   "outputs": [
    {
     "data": {
      "text/plain": [
       "10"
      ]
     },
     "execution_count": 65,
     "metadata": {},
     "output_type": "execute_result"
    }
   ],
   "source": [
    "# If you were to add 3 to each data point, how many positive numbers would there be?\n",
    "len(a[(a+3)>0])"
   ]
  },
  {
   "cell_type": "code",
   "execution_count": 66,
   "id": "91a707ba",
   "metadata": {},
   "outputs": [
    {
     "data": {
      "text/plain": [
       "74.0"
      ]
     },
     "execution_count": 66,
     "metadata": {},
     "output_type": "execute_result"
    }
   ],
   "source": [
    "# If you squared each number, what would the new mean and standard deviation be?\n",
    "(a**2)\n",
    "(a**2).mean()"
   ]
  },
  {
   "cell_type": "code",
   "execution_count": 67,
   "id": "510c3431",
   "metadata": {},
   "outputs": [
    {
     "data": {
      "text/plain": [
       "144.0243035046516"
      ]
     },
     "execution_count": 67,
     "metadata": {},
     "output_type": "execute_result"
    }
   ],
   "source": [
    "(a**2).std()"
   ]
  },
  {
   "cell_type": "code",
   "execution_count": 68,
   "id": "db33625b",
   "metadata": {},
   "outputs": [
    {
     "data": {
      "text/plain": [
       "array([  1.,   7.,   9.,  20.,  -5.,  -4.,  -3.,  -3.,  -3.,  -9.,   0.,\n",
       "       -10.])"
      ]
     },
     "execution_count": 68,
     "metadata": {},
     "output_type": "execute_result"
    }
   ],
   "source": [
    "# A common statistical operation on a dataset is centering\n",
    "a-(a.mean())"
   ]
  },
  {
   "cell_type": "code",
   "execution_count": 69,
   "id": "fa23feca",
   "metadata": {},
   "outputs": [
    {
     "data": {
      "text/plain": [
       "array([ 0.12403473,  0.86824314,  1.11631261,  2.48069469, -0.62017367,\n",
       "       -0.49613894, -0.3721042 , -0.3721042 , -0.3721042 , -1.11631261,\n",
       "        0.        , -1.24034735])"
      ]
     },
     "execution_count": 69,
     "metadata": {},
     "output_type": "execute_result"
    }
   ],
   "source": [
    "# z-score\n",
    "(a-a.mean())/a.std()"
   ]
  },
  {
   "cell_type": "code",
   "execution_count": 1,
   "id": "cfee09af",
   "metadata": {},
   "outputs": [],
   "source": [
    "# question 8\n",
    "import numpy as np\n",
    "# Life w/o numpy to life with numpy\n",
    "## Setup 1\n",
    "a =[1, 2, 3, 4, 5, 6, 7, 8, 9, 10]\n",
    "\n",
    "# Use python's built in functionality/operators to determine the following:\n"
   ]
  },
  {
   "cell_type": "code",
   "execution_count": 2,
   "id": "3880b3b3",
   "metadata": {},
   "outputs": [],
   "source": [
    "# bonus"
   ]
  },
  {
   "cell_type": "code",
   "execution_count": null,
   "id": "97025adf",
   "metadata": {
    "collapsed": true
   },
   "outputs": [],
   "source": []
  },
  {
   "cell_type": "code",
   "execution_count": 184,
   "id": "098f7fee",
   "metadata": {},
   "outputs": [
    {
     "data": {
      "text/plain": [
       "10"
      ]
     },
     "execution_count": 184,
     "metadata": {},
     "output_type": "execute_result"
    }
   ],
   "source": [
    "import math\n",
    "# Exercise 1 - Make a variable called sum_of_a to hold the sum of all the numbers in above list\n",
    "sum_of_a=sum(a)\n",
    "# Exercise 2 - Make a variable named min_of_a to hold the minimum of all the numbers in the above list\n",
    "min_of_a=min(a)\n",
    "# Exercise 3 - Make a variable named max_of_a to hold the max number of all the numbers in the above list\n",
    "max_of_a=max(a)\n",
    "# Exercise 4 - Make a variable named mean_of_a to hold the average of all the numbers in the above list\n",
    "mean_of_a= sum(a)/10\n",
    "# Exercise 5 - Make a variable named product_of_a to hold the product of multiplying all the numbers in the above list together\n",
    "for num in a:\n",
    "    li =1\n",
    "    li*=num\n",
    "li\n",
    "# Exercise 6 - Make a variable named squares_of_a. It should hold each number in a squared like [1, 4, 9, 16, 25...]\n",
    "# Exercise 7 - Make a variable named odds_in_a. It should hold only the odd numbers\n",
    "# Exercise 8 - Make a variable named evens_in_a. It should hold only the evens.\n",
    "## What about life in two dimensions? A list of lists is matrix, a table, a spreadsheet, a chessboard...\n",
    "## Setup 2: Consider what it would take to find the sum, min, max, average, sum, product, and list of squares for this list of two lists.\n",
    "\n"
   ]
  },
  {
   "cell_type": "code",
   "execution_count": null,
   "id": "05806c17",
   "metadata": {},
   "outputs": [],
   "source": [
    "b = [\n",
    "    [3, 4, 5],\n",
    "    [6, 7, 8]\n",
    "]\n",
    "# Exercise 1 - refactor the following to use numpy. Use sum_of_b as the variable. **Hint, you'll first need to make sure that the \"b\" variable is a numpy array**\n",
    "sum_of_b = 0\n",
    "for row in b:\n",
    "sum_of_b += sum(row)\n",
    "# Exercise 2 - refactor the following to use numpy. \n",
    "min_of_b = min(b[0]) if min(b[0]) <= min(b[1]) else min(b[1])  \n",
    "# Exercise 3 - refactor the following maximum calculation to find the answer with numpy.\n",
    "max_of_b = max(b[0]) if max(b[0]) >= max(b[1]) else max(b[1])\n",
    "# Exercise 4 - refactor the following using numpy to find the mean of b\n",
    "mean_of_b = (sum(b[0]) + sum(b[1])) / (len(b[0]) + len(b[1]))\n",
    "# Exercise 5 - refactor the following to use numpy for calculating the product of all numbers multiplied together.\n",
    "product_of_b = 1\n",
    "for row in b:\n",
    "for number in row:\n",
    "product_of_b *= number\n",
    "# Exercise 6 - refactor the following to use numpy to find the list of squares \n",
    "squares_of_b = []\n",
    "for row in b:\n",
    "for number in row:\n",
    "squares_of_b.append(number**2)\n",
    "# Exercise 7 - refactor using numpy to determine the odds_in_b\n",
    "odds_in_b = []\n",
    "for row in b:\n",
    "for number in row:\n",
    "if(number % 2 != 0):\n",
    "odds_in_b.append(number)\n",
    "# Exercise 8 - refactor the following to use numpy to filter only the even numbers\n",
    "evens_in_b = []\n",
    "for row in b:\n",
    "for number in row:\n",
    "if(number % 2 == 0):\n",
    "evens_in_b.append(number)\n",
    "# Exercise 9 - print out the shape of the array b.\n",
    "# Exercise 10 - transpose the array b.\n",
    "# Exercise 11 - reshape the array b to be a single list of 6 numbers. (1 x 6)\n",
    "# Exercise 12 - reshape the array b to be a list of 6 lists, each containing only 1 number (6 x 1)\n",
    "## Setup 3\n",
    "c = [\n",
    "    [1, 2, 3],\n",
    "    [4, 5, 6],\n",
    "    [7, 8, 9]\n",
    "]\n",
    "# HINT, you'll first need to make sure that the \"c\" variable is a numpy array prior to using numpy array methods.\n",
    "# Exercise 1 - Find the min, max, sum, and product of c.\n",
    "# Exercise 2 - Determine the standard deviation of c.\n",
    "# Exercise 3 - Determine the variance of c.\n",
    "# Exercise 4 - Print out the shape of the array c\n",
    "# Exercise 5 - Transpose c and print out transposed result.\n",
    "# Exercise 6 - Get the dot product of the array c with c. \n",
    "# Exercise 7 - Write the code necessary to sum up the result of c times c transposed. Answer should be 261\n",
    "# Exercise 8 - Write the code necessary to determine the product of c times c transposed. Answer should be 131681894400.\n",
    "## Setup 4\n",
    "d = [\n",
    "    [90, 30, 45, 0, 120, 180],\n",
    "    [45, -90, -30, 270, 90, 0],\n",
    "    [60, 45, -45, 90, -45, 180]\n",
    "]\n",
    "# Exercise 1 - Find the sine of all the numbers in d\n",
    "# Exercise 2 - Find the cosine of all the numbers in d\n",
    "# Exercise 3 - Find the tangent of all the numbers in d\n",
    "# Exercise 4 - Find all the negative numbers in d\n",
    "# Exercise 5 - Find all the positive numbers in d\n",
    "# Exercise 6 - Return an array of only the unique numbers in d.\n",
    "# Exercise 7 - Determine how many unique numbers there are in d.\n",
    "# Exercise 8 - Print out the shape of d.\n",
    "# Exercise 9 - Transpose and then print out the shape of d.\n",
    "# Exercise 10 - Reshape d into an array of 9 x 2"
   ]
  }
 ],
 "metadata": {
  "kernelspec": {
   "display_name": "Python 3 (ipykernel)",
   "language": "python",
   "name": "python3"
  },
  "language_info": {
   "codemirror_mode": {
    "name": "ipython",
    "version": 3
   },
   "file_extension": ".py",
   "mimetype": "text/x-python",
   "name": "python",
   "nbconvert_exporter": "python",
   "pygments_lexer": "ipython3",
   "version": "3.9.12"
  }
 },
 "nbformat": 4,
 "nbformat_minor": 5
}
