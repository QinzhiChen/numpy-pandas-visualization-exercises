{
 "cells": [
  {
   "cell_type": "code",
   "execution_count": 14,
   "id": "f5f648d8",
   "metadata": {},
   "outputs": [],
   "source": [
    "# copy the data from the exercise\n",
    "import numpy as np\n",
    "a = np.array([4, 10, 12, 23, -2, -1, 0, 0, 0, -6, 3, -7])"
   ]
  },
  {
   "cell_type": "code",
   "execution_count": 3,
   "id": "19027527",
   "metadata": {},
   "outputs": [
    {
     "data": {
      "text/plain": [
       "4"
      ]
     },
     "execution_count": 3,
     "metadata": {},
     "output_type": "execute_result"
    }
   ],
   "source": [
    "# problem1\n",
    "# How many negative numbers are there?\n",
    "len(a[a<0])"
   ]
  },
  {
   "cell_type": "code",
   "execution_count": 4,
   "id": "73cb1735",
   "metadata": {},
   "outputs": [
    {
     "data": {
      "text/plain": [
       "5"
      ]
     },
     "execution_count": 4,
     "metadata": {},
     "output_type": "execute_result"
    }
   ],
   "source": [
    "# problem 2\n",
    "# How many positive numbers are there?\n",
    "len(a[a>0])"
   ]
  },
  {
   "cell_type": "code",
   "execution_count": 5,
   "id": "3c0a62d6",
   "metadata": {},
   "outputs": [
    {
     "data": {
      "text/plain": [
       "array([ 4, 10, 12])"
      ]
     },
     "execution_count": 5,
     "metadata": {},
     "output_type": "execute_result"
    }
   ],
   "source": [
    "# problem3\n",
    "# How many even positive numbers are there?\n",
    "a[(a>0) & (a%2==0)]"
   ]
  },
  {
   "cell_type": "code",
   "execution_count": 6,
   "id": "4401ebe1",
   "metadata": {},
   "outputs": [
    {
     "data": {
      "text/plain": [
       "10"
      ]
     },
     "execution_count": 6,
     "metadata": {},
     "output_type": "execute_result"
    }
   ],
   "source": [
    "# problem4\n",
    "# If you were to add 3 to each data point, how many positive numbers would there be?\n",
    "len(a[(a+3)>0])"
   ]
  },
  {
   "cell_type": "code",
   "execution_count": 7,
   "id": "91a707ba",
   "metadata": {},
   "outputs": [
    {
     "data": {
      "text/plain": [
       "74.0"
      ]
     },
     "execution_count": 7,
     "metadata": {},
     "output_type": "execute_result"
    }
   ],
   "source": [
    "# problem 5\n",
    "# If you squared each number, what would the new mean and standard deviation be?\n",
    "(a**2)\n",
    "(a**2).mean()"
   ]
  },
  {
   "cell_type": "code",
   "execution_count": 8,
   "id": "510c3431",
   "metadata": {},
   "outputs": [
    {
     "data": {
      "text/plain": [
       "144.0243035046516"
      ]
     },
     "execution_count": 8,
     "metadata": {},
     "output_type": "execute_result"
    }
   ],
   "source": [
    "# problem 5\n",
    "# find standard deviation\n",
    "(a**2).std()"
   ]
  },
  {
   "cell_type": "code",
   "execution_count": 68,
   "id": "db33625b",
   "metadata": {},
   "outputs": [
    {
     "data": {
      "text/plain": [
       "array([  1.,   7.,   9.,  20.,  -5.,  -4.,  -3.,  -3.,  -3.,  -9.,   0.,\n",
       "       -10.])"
      ]
     },
     "execution_count": 68,
     "metadata": {},
     "output_type": "execute_result"
    }
   ],
   "source": [
    "# find the centering\n",
    "# A common statistical operation on a dataset is centering\n",
    "a-(a.mean())"
   ]
  },
  {
   "cell_type": "code",
   "execution_count": 9,
   "id": "fa23feca",
   "metadata": {},
   "outputs": [
    {
     "data": {
      "text/plain": [
       "array([ 0.12403473,  0.86824314,  1.11631261,  2.48069469, -0.62017367,\n",
       "       -0.49613894, -0.3721042 , -0.3721042 , -0.3721042 , -1.11631261,\n",
       "        0.        , -1.24034735])"
      ]
     },
     "execution_count": 9,
     "metadata": {},
     "output_type": "execute_result"
    }
   ],
   "source": [
    "# calculate z score\n",
    "# z-score\n",
    "(a-a.mean())/a.std()"
   ]
  },
  {
   "cell_type": "code",
   "execution_count": 2,
   "id": "cfee09af",
   "metadata": {},
   "outputs": [],
   "source": [
    "# question 8\n",
    "import numpy as np\n",
    "# Life w/o numpy to life with numpy\n",
    "## Setup 1\n",
    "a =[1, 2, 3, 4, 5, 6, 7, 8, 9, 10]\n",
    "\n",
    "# Use python's built in functionality/operators to determine the following:\n"
   ]
  },
  {
   "cell_type": "code",
   "execution_count": 11,
   "id": "3880b3b3",
   "metadata": {},
   "outputs": [],
   "source": [
    "# exercise 8-1"
   ]
  },
  {
   "cell_type": "code",
   "execution_count": 17,
   "id": "97025adf",
   "metadata": {},
   "outputs": [
    {
     "data": {
      "text/plain": [
       "55"
      ]
     },
     "execution_count": 17,
     "metadata": {},
     "output_type": "execute_result"
    }
   ],
   "source": [
    "# sum all numbers\n",
    "def sum_of_a(a):\n",
    "    a=sum(a)\n",
    "    return a\n",
    "sum_of_a(a)"
   ]
  },
  {
   "cell_type": "code",
   "execution_count": 18,
   "id": "723649ab",
   "metadata": {},
   "outputs": [],
   "source": [
    "# exercise 8-2"
   ]
  },
  {
   "cell_type": "code",
   "execution_count": 20,
   "id": "5ca4ecf0",
   "metadata": {},
   "outputs": [
    {
     "data": {
      "text/plain": [
       "1"
      ]
     },
     "execution_count": 20,
     "metadata": {},
     "output_type": "execute_result"
    }
   ],
   "source": [
    "# find minimum\n",
    "def min_of_a (a):\n",
    "    a=min(a)\n",
    "    return a\n",
    "min_of_a(a)"
   ]
  },
  {
   "cell_type": "code",
   "execution_count": 22,
   "id": "6ecd10d8",
   "metadata": {},
   "outputs": [],
   "source": [
    "# exercise 8-3"
   ]
  },
  {
   "cell_type": "code",
   "execution_count": 24,
   "id": "c5899b12",
   "metadata": {},
   "outputs": [
    {
     "data": {
      "text/plain": [
       "10"
      ]
     },
     "execution_count": 24,
     "metadata": {},
     "output_type": "execute_result"
    }
   ],
   "source": [
    "# find max value\n",
    "def max_of_a(a):\n",
    "    a=max(a)\n",
    "    return a\n",
    "max_of_a(a)"
   ]
  },
  {
   "cell_type": "code",
   "execution_count": 25,
   "id": "9f2bf1e7",
   "metadata": {},
   "outputs": [],
   "source": [
    "# exercise 8-4\n",
    "# find mean of a"
   ]
  },
  {
   "cell_type": "code",
   "execution_count": 35,
   "id": "46835226",
   "metadata": {},
   "outputs": [
    {
     "data": {
      "text/plain": [
       "5.5"
      ]
     },
     "execution_count": 35,
     "metadata": {},
     "output_type": "execute_result"
    }
   ],
   "source": [
    "def mean_of_a(a):\n",
    "    a= sum(a)/10\n",
    "    return a\n",
    "mean_of_a(a)"
   ]
  },
  {
   "cell_type": "code",
   "execution_count": 37,
   "id": "9a0855e6",
   "metadata": {},
   "outputs": [],
   "source": [
    "# exercise 8-5\n",
    "# find product of_a"
   ]
  },
  {
   "cell_type": "code",
   "execution_count": 47,
   "id": "88e588a0",
   "metadata": {},
   "outputs": [
    {
     "data": {
      "text/plain": [
       "3628800"
      ]
     },
     "execution_count": 47,
     "metadata": {},
     "output_type": "execute_result"
    }
   ],
   "source": [
    "def product_of_a(a):\n",
    "    b=1\n",
    "    for num in a:\n",
    "        b=b*num\n",
    "    return b\n",
    "product_of_a(a)"
   ]
  },
  {
   "cell_type": "code",
   "execution_count": 48,
   "id": "97b005c5",
   "metadata": {},
   "outputs": [],
   "source": [
    "# exercise 8-6\n",
    "# find square of a"
   ]
  },
  {
   "cell_type": "code",
   "execution_count": null,
   "id": "19367715",
   "metadata": {},
   "outputs": [],
   "source": [
    "def squares_of_a(a):\n",
    "        return [num**2 for num in a]\n",
    "squares_of_a(a)"
   ]
  },
  {
   "cell_type": "code",
   "execution_count": 61,
   "id": "4c874577",
   "metadata": {},
   "outputs": [],
   "source": [
    "# exercise 8-7\n",
    "# find odds in a list"
   ]
  },
  {
   "cell_type": "code",
   "execution_count": 4,
   "id": "32930291",
   "metadata": {},
   "outputs": [
    {
     "data": {
      "text/plain": [
       "[1, 3, 5, 7, 9]"
      ]
     },
     "execution_count": 4,
     "metadata": {},
     "output_type": "execute_result"
    }
   ],
   "source": [
    "def odds_in_a(a):\n",
    "    b=[]\n",
    "    for num in a:\n",
    "        if num%2==1:\n",
    "            b.append(num)  \n",
    "    return b\n",
    "odds_in_a(a)"
   ]
  },
  {
   "cell_type": "code",
   "execution_count": 6,
   "id": "c0b460d3",
   "metadata": {},
   "outputs": [],
   "source": [
    "# problem 8-8\n",
    "# find even number in the list"
   ]
  },
  {
   "cell_type": "code",
   "execution_count": 8,
   "id": "3646fad8",
   "metadata": {},
   "outputs": [
    {
     "data": {
      "text/plain": [
       "[2, 4, 6, 8, 10]"
      ]
     },
     "execution_count": 8,
     "metadata": {},
     "output_type": "execute_result"
    }
   ],
   "source": [
    "def odds_in_a(a):\n",
    "    b=[]\n",
    "    for num in a:\n",
    "        if num%2==0:\n",
    "            b.append(num)  \n",
    "    return b\n",
    "odds_in_a(a)"
   ]
  },
  {
   "cell_type": "code",
   "execution_count": null,
   "id": "53598bae",
   "metadata": {},
   "outputs": [],
   "source": []
  },
  {
   "cell_type": "code",
   "execution_count": 32,
   "id": "098f7fee",
   "metadata": {},
   "outputs": [],
   "source": [
    "## What about life in two dimensions? A list of lists is matrix, a table, a spreadsheet, a chessboard...\n",
    "## Setup 2: Consider what it would take to find the sum, min, max, average, sum, product, and list of squares for this list of two lists.\n",
    "b = [\n",
    "    [3, 4, 5],\n",
    "    [6, 7, 8]\n",
    "    ]\n",
    "b_ar=np.array(b)"
   ]
  },
  {
   "cell_type": "code",
   "execution_count": 34,
   "id": "f55ee8ee",
   "metadata": {},
   "outputs": [
    {
     "data": {
      "text/plain": [
       "33"
      ]
     },
     "execution_count": 34,
     "metadata": {},
     "output_type": "execute_result"
    }
   ],
   "source": [
    "# Exercise 1 - refactor the following to use numpy. Use sum_of_b as the variable. **Hint, you'll first need to make sure that the \"b\" variable is a numpy array**\n",
    "sum_of_b = 0\n",
    "for row in b:\n",
    "    sum_of_b += sum(row)\n",
    "    \n",
    "b_ar.sum()"
   ]
  },
  {
   "cell_type": "code",
   "execution_count": 36,
   "id": "e1097ff2",
   "metadata": {},
   "outputs": [
    {
     "data": {
      "text/plain": [
       "3"
      ]
     },
     "execution_count": 36,
     "metadata": {},
     "output_type": "execute_result"
    }
   ],
   "source": [
    "# Exercise 2 - refactor the following to use numpy. \n",
    "min_of_b = min(b[0]) if min(b[0]) <= min(b[1]) else min(b[1])  \n",
    "b_ar.min()"
   ]
  },
  {
   "cell_type": "code",
   "execution_count": 37,
   "id": "1a3c3d1b",
   "metadata": {},
   "outputs": [
    {
     "data": {
      "text/plain": [
       "8"
      ]
     },
     "execution_count": 37,
     "metadata": {},
     "output_type": "execute_result"
    }
   ],
   "source": [
    "# Exercise 3 - refactor the following maximum calculation to find the answer with numpy.\n",
    "max_of_b = max(b[0]) if max(b[0]) >= max(b[1]) else max(b[1])\n",
    "b_ar.max()"
   ]
  },
  {
   "cell_type": "code",
   "execution_count": 39,
   "id": "f43962a5",
   "metadata": {},
   "outputs": [
    {
     "data": {
      "text/plain": [
       "5.5"
      ]
     },
     "execution_count": 39,
     "metadata": {},
     "output_type": "execute_result"
    }
   ],
   "source": [
    "# Exercise 4 - refactor the following using numpy to find the mean of b\n",
    "mean_of_b = (sum(b[0]) + sum(b[1])) / (len(b[0]) + len(b[1]))\n",
    "b_ar.mean()"
   ]
  },
  {
   "cell_type": "code",
   "execution_count": 41,
   "id": "1d7e5210",
   "metadata": {},
   "outputs": [
    {
     "data": {
      "text/plain": [
       "20160"
      ]
     },
     "execution_count": 41,
     "metadata": {},
     "output_type": "execute_result"
    }
   ],
   "source": [
    "# Exercise 5 - refactor the following to use numpy for calculating the product of all numbers multiplied together.\n",
    "product_of_b = 1\n",
    "for row in b:\n",
    "    for number in row:\n",
    "        product_of_b *= number\n",
    "b_ar.prod()"
   ]
  },
  {
   "cell_type": "code",
   "execution_count": 48,
   "id": "e63d56f7",
   "metadata": {},
   "outputs": [
    {
     "data": {
      "text/plain": [
       "array([[ 9, 16, 25],\n",
       "       [36, 49, 64]])"
      ]
     },
     "execution_count": 48,
     "metadata": {},
     "output_type": "execute_result"
    }
   ],
   "source": [
    "import math\n",
    "# Exercise 6 - refactor the following to use numpy to find the list of squares \n",
    "squares_of_b = []\n",
    "for row in b:\n",
    "    for number in row:\n",
    "        squares_of_b.append(number**2)\n",
    "\n",
    "np.square(b_ar)"
   ]
  },
  {
   "cell_type": "code",
   "execution_count": 49,
   "id": "54762010",
   "metadata": {},
   "outputs": [
    {
     "data": {
      "text/plain": [
       "array([3, 5, 7])"
      ]
     },
     "execution_count": 49,
     "metadata": {},
     "output_type": "execute_result"
    }
   ],
   "source": [
    "# Exercise 7 - refactor using numpy to determine the odds_in_b\n",
    "odds_in_b = []\n",
    "for row in b:\n",
    "    for number in row:\n",
    "        if(number % 2 != 0):\n",
    "            odds_in_b.append(number)\n",
    "            \n",
    "b_ar[b_ar%2==1]"
   ]
  },
  {
   "cell_type": "code",
   "execution_count": 50,
   "id": "05806c17",
   "metadata": {},
   "outputs": [
    {
     "data": {
      "text/plain": [
       "array([4, 6, 8])"
      ]
     },
     "execution_count": 50,
     "metadata": {},
     "output_type": "execute_result"
    }
   ],
   "source": [
    "# Exercise 8 - refactor the following to use numpy to filter only the even numbers\n",
    "evens_in_b = []\n",
    "for row in b:\n",
    "    for number in row:\n",
    "        if(number % 2 == 0):\n",
    "            evens_in_b.append(number)\n",
    "            \n",
    "b_ar[b_ar%2==0]"
   ]
  },
  {
   "cell_type": "code",
   "execution_count": 52,
   "id": "f3a966e2",
   "metadata": {},
   "outputs": [
    {
     "data": {
      "text/plain": [
       "(2, 3)"
      ]
     },
     "execution_count": 52,
     "metadata": {},
     "output_type": "execute_result"
    }
   ],
   "source": [
    "# Exercise 9 - print out the shape of the array b.\n",
    "b_ar.shape"
   ]
  },
  {
   "cell_type": "code",
   "execution_count": 55,
   "id": "d27063c1",
   "metadata": {},
   "outputs": [
    {
     "data": {
      "text/plain": [
       "array([[3, 6],\n",
       "       [4, 7],\n",
       "       [5, 8]])"
      ]
     },
     "execution_count": 55,
     "metadata": {},
     "output_type": "execute_result"
    }
   ],
   "source": [
    "# Exercise 10 - transpose the array b.\n",
    "b_ar.transpose()"
   ]
  },
  {
   "cell_type": "code",
   "execution_count": 57,
   "id": "563ffff9",
   "metadata": {},
   "outputs": [
    {
     "data": {
      "text/plain": [
       "array([[3, 4, 5, 6, 7, 8]])"
      ]
     },
     "execution_count": 57,
     "metadata": {},
     "output_type": "execute_result"
    }
   ],
   "source": [
    "# Exercise 11 - reshape the array b to be a single list of 6 numbers. (1 x 6)\n",
    "b_ar.reshape(1,6)"
   ]
  },
  {
   "cell_type": "code",
   "execution_count": 58,
   "id": "7d533569",
   "metadata": {},
   "outputs": [
    {
     "data": {
      "text/plain": [
       "array([[3],\n",
       "       [4],\n",
       "       [5],\n",
       "       [6],\n",
       "       [7],\n",
       "       [8]])"
      ]
     },
     "execution_count": 58,
     "metadata": {},
     "output_type": "execute_result"
    }
   ],
   "source": [
    "# Exercise 12 - reshape the array b to be a list of 6 lists, each containing only 1 number (6 x 1)\n",
    "b_ar.reshape(6,1)"
   ]
  },
  {
   "cell_type": "code",
   "execution_count": 60,
   "id": "0ae09ec4",
   "metadata": {},
   "outputs": [],
   "source": [
    "## Setup 3\n",
    "c = [\n",
    "    [1, 2, 3],\n",
    "    [4, 5, 6],\n",
    "    [7, 8, 9]\n",
    "]\n",
    "c_ar=np.array(c)"
   ]
  },
  {
   "cell_type": "code",
   "execution_count": 64,
   "id": "9e00ba3b",
   "metadata": {},
   "outputs": [
    {
     "data": {
      "text/plain": [
       "(9, 1, 45, 362880)"
      ]
     },
     "execution_count": 64,
     "metadata": {},
     "output_type": "execute_result"
    }
   ],
   "source": [
    "# HINT, you'll first need to make sure that the \"c\" variable is a numpy array prior to using numpy array methods.\n",
    "# Exercise 1 - Find the min, max, sum, and product of c.\n",
    "c_ar.max(),c_ar.min(),c_ar.sum(),c_ar.prod()"
   ]
  },
  {
   "cell_type": "code",
   "execution_count": 65,
   "id": "cdab64a7",
   "metadata": {},
   "outputs": [
    {
     "data": {
      "text/plain": [
       "2.581988897471611"
      ]
     },
     "execution_count": 65,
     "metadata": {},
     "output_type": "execute_result"
    }
   ],
   "source": [
    "# Exercise 2 - Determine the standard deviation of c.\n",
    "c_ar.std()"
   ]
  },
  {
   "cell_type": "code",
   "execution_count": 66,
   "id": "7b67f5dd",
   "metadata": {},
   "outputs": [
    {
     "data": {
      "text/plain": [
       "6.666666666666667"
      ]
     },
     "execution_count": 66,
     "metadata": {},
     "output_type": "execute_result"
    }
   ],
   "source": [
    "# Exercise 3 - Determine the variance of c.\n",
    "c_ar.var()"
   ]
  },
  {
   "cell_type": "code",
   "execution_count": 68,
   "id": "bfe5db6e",
   "metadata": {},
   "outputs": [
    {
     "data": {
      "text/plain": [
       "(3, 3)"
      ]
     },
     "execution_count": 68,
     "metadata": {},
     "output_type": "execute_result"
    }
   ],
   "source": [
    "# Exercise 4 - Print out the shape of the array c\n",
    "c_ar.shape"
   ]
  },
  {
   "cell_type": "code",
   "execution_count": 69,
   "id": "c149fca7",
   "metadata": {},
   "outputs": [
    {
     "data": {
      "text/plain": [
       "array([[1, 4, 7],\n",
       "       [2, 5, 8],\n",
       "       [3, 6, 9]])"
      ]
     },
     "execution_count": 69,
     "metadata": {},
     "output_type": "execute_result"
    }
   ],
   "source": [
    "# Exercise 5 - Transpose c and print out transposed result.\n",
    "c_ar.transpose()"
   ]
  },
  {
   "cell_type": "code",
   "execution_count": 71,
   "id": "7a38b34b",
   "metadata": {},
   "outputs": [
    {
     "data": {
      "text/plain": [
       "array([[ 30,  36,  42],\n",
       "       [ 66,  81,  96],\n",
       "       [102, 126, 150]])"
      ]
     },
     "execution_count": 71,
     "metadata": {},
     "output_type": "execute_result"
    }
   ],
   "source": [
    "# Exercise 6 - Get the dot product of the array c with c. \n",
    "c_ar.dot(c)"
   ]
  },
  {
   "cell_type": "code",
   "execution_count": 86,
   "id": "1d666d25",
   "metadata": {},
   "outputs": [
    {
     "data": {
      "text/plain": [
       "261"
      ]
     },
     "execution_count": 86,
     "metadata": {},
     "output_type": "execute_result"
    }
   ],
   "source": [
    "# Exercise 7 - Write the code necessary to sum up the result of c times c transposed. Answer should be 261\n",
    "np.sum(c*c_ar.transpose())"
   ]
  },
  {
   "cell_type": "code",
   "execution_count": 88,
   "id": "9c983e29",
   "metadata": {},
   "outputs": [
    {
     "data": {
      "text/plain": [
       "131681894400"
      ]
     },
     "execution_count": 88,
     "metadata": {},
     "output_type": "execute_result"
    }
   ],
   "source": [
    "# Exercise 8 - Write the code necessary to determine the product of c times c transposed. Answer should be 131681894400.\n",
    "np.prod(c_ar*c_ar.transpose())"
   ]
  },
  {
   "cell_type": "code",
   "execution_count": 89,
   "id": "f70f613b",
   "metadata": {},
   "outputs": [],
   "source": [
    "## Setup 4\n",
    "d = [\n",
    "    [90, 30, 45, 0, 120, 180],\n",
    "    [45, -90, -30, 270, 90, 0],\n",
    "    [60, 45, -45, 90, -45, 180]\n",
    "]\n",
    "d_ar=np.array(d)"
   ]
  },
  {
   "cell_type": "code",
   "execution_count": 91,
   "id": "bf323492",
   "metadata": {},
   "outputs": [
    {
     "data": {
      "text/plain": [
       "array([[ 0.89399666, -0.98803162,  0.85090352,  0.        ,  0.58061118,\n",
       "        -0.80115264],\n",
       "       [ 0.85090352, -0.89399666,  0.98803162, -0.17604595,  0.89399666,\n",
       "         0.        ],\n",
       "       [-0.30481062,  0.85090352, -0.85090352,  0.89399666, -0.85090352,\n",
       "        -0.80115264]])"
      ]
     },
     "execution_count": 91,
     "metadata": {},
     "output_type": "execute_result"
    }
   ],
   "source": [
    "# Exercise 1 - Find the sine of all the numbers in d\n",
    "np.sin(d_ar)"
   ]
  },
  {
   "cell_type": "code",
   "execution_count": 92,
   "id": "e70a9ef0",
   "metadata": {},
   "outputs": [
    {
     "data": {
      "text/plain": [
       "array([[-0.44807362,  0.15425145,  0.52532199,  1.        ,  0.81418097,\n",
       "        -0.59846007],\n",
       "       [ 0.52532199, -0.44807362,  0.15425145,  0.98438195, -0.44807362,\n",
       "         1.        ],\n",
       "       [-0.95241298,  0.52532199,  0.52532199, -0.44807362,  0.52532199,\n",
       "        -0.59846007]])"
      ]
     },
     "execution_count": 92,
     "metadata": {},
     "output_type": "execute_result"
    }
   ],
   "source": [
    "# Exercise 2 - Find the cosine of all the numbers in d\n",
    "np.cos(d_ar)"
   ]
  },
  {
   "cell_type": "code",
   "execution_count": 93,
   "id": "ed6fcdf8",
   "metadata": {},
   "outputs": [
    {
     "data": {
      "text/plain": [
       "array([[-1.99520041, -6.4053312 ,  1.61977519,  0.        ,  0.71312301,\n",
       "         1.33869021],\n",
       "       [ 1.61977519,  1.99520041,  6.4053312 , -0.17883906, -1.99520041,\n",
       "         0.        ],\n",
       "       [ 0.32004039,  1.61977519, -1.61977519, -1.99520041, -1.61977519,\n",
       "         1.33869021]])"
      ]
     },
     "execution_count": 93,
     "metadata": {},
     "output_type": "execute_result"
    }
   ],
   "source": [
    "# Exercise 3 - Find the tangent of all the numbers in d\n",
    "np.tan(d_ar)"
   ]
  },
  {
   "cell_type": "code",
   "execution_count": 95,
   "id": "b09b5cba",
   "metadata": {},
   "outputs": [
    {
     "data": {
      "text/plain": [
       "array([-90, -30, -45, -45])"
      ]
     },
     "execution_count": 95,
     "metadata": {},
     "output_type": "execute_result"
    }
   ],
   "source": [
    "# Exercise 4 - Find all the negative numbers in d\n",
    "d_ar[d_ar<0]"
   ]
  },
  {
   "cell_type": "code",
   "execution_count": 96,
   "id": "83a8da8e",
   "metadata": {},
   "outputs": [
    {
     "data": {
      "text/plain": [
       "array([ 90,  30,  45, 120, 180,  45, 270,  90,  60,  45,  90, 180])"
      ]
     },
     "execution_count": 96,
     "metadata": {},
     "output_type": "execute_result"
    }
   ],
   "source": [
    "# Exercise 5 - Find all the positive numbers in d\n",
    "d_ar[d_ar>0]"
   ]
  },
  {
   "cell_type": "code",
   "execution_count": 98,
   "id": "5ab74950",
   "metadata": {},
   "outputs": [
    {
     "data": {
      "text/plain": [
       "array([-90, -45, -30,   0,  30,  45,  60,  90, 120, 180, 270])"
      ]
     },
     "execution_count": 98,
     "metadata": {},
     "output_type": "execute_result"
    }
   ],
   "source": [
    "# Exercise 6 - Return an array of only the unique numbers in d.\n",
    "np.unique(d_ar)"
   ]
  },
  {
   "cell_type": "code",
   "execution_count": 99,
   "id": "ca7a76db",
   "metadata": {},
   "outputs": [
    {
     "data": {
      "text/plain": [
       "11"
      ]
     },
     "execution_count": 99,
     "metadata": {},
     "output_type": "execute_result"
    }
   ],
   "source": [
    "# Exercise 7 - Determine how many unique numbers there are in d.\n",
    "len(np.unique(d_ar))"
   ]
  },
  {
   "cell_type": "code",
   "execution_count": 100,
   "id": "860bebcf",
   "metadata": {},
   "outputs": [
    {
     "data": {
      "text/plain": [
       "(3, 6)"
      ]
     },
     "execution_count": 100,
     "metadata": {},
     "output_type": "execute_result"
    }
   ],
   "source": [
    "# Exercise 8 - Print out the shape of d.\n",
    "d_ar.shape"
   ]
  },
  {
   "cell_type": "code",
   "execution_count": 105,
   "id": "28790928",
   "metadata": {},
   "outputs": [
    {
     "data": {
      "text/plain": [
       "(6, 3)"
      ]
     },
     "execution_count": 105,
     "metadata": {},
     "output_type": "execute_result"
    }
   ],
   "source": [
    "# Exercise 9 - Transpose and then print out the shape of d.\n",
    "(d_ar.transpose()).shape"
   ]
  },
  {
   "cell_type": "code",
   "execution_count": 106,
   "id": "9d766b52",
   "metadata": {},
   "outputs": [
    {
     "data": {
      "text/plain": [
       "array([[ 90,  30],\n",
       "       [ 45,   0],\n",
       "       [120, 180],\n",
       "       [ 45, -90],\n",
       "       [-30, 270],\n",
       "       [ 90,   0],\n",
       "       [ 60,  45],\n",
       "       [-45,  90],\n",
       "       [-45, 180]])"
      ]
     },
     "execution_count": 106,
     "metadata": {},
     "output_type": "execute_result"
    }
   ],
   "source": [
    "# Exercise 10 - Reshape d into an array of 9 x 2\n",
    "d_ar.reshape(9,2)"
   ]
  },
  {
   "cell_type": "code",
   "execution_count": null,
   "id": "8bdc74ef",
   "metadata": {},
   "outputs": [],
   "source": []
  }
 ],
 "metadata": {
  "kernelspec": {
   "display_name": "Python 3 (ipykernel)",
   "language": "python",
   "name": "python3"
  },
  "language_info": {
   "codemirror_mode": {
    "name": "ipython",
    "version": 3
   },
   "file_extension": ".py",
   "mimetype": "text/x-python",
   "name": "python",
   "nbconvert_exporter": "python",
   "pygments_lexer": "ipython3",
   "version": "3.9.12"
  }
 },
 "nbformat": 4,
 "nbformat_minor": 5
}
